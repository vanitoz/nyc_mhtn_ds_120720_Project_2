{
 "cells": [
  {
   "cell_type": "code",
   "execution_count": 60,
   "metadata": {},
   "outputs": [
    {
     "name": "stdout",
     "output_type": "stream",
     "text": [
      "The autoreload extension is already loaded. To reload it, use:\n",
      "  %reload_ext autoreload\n"
     ]
    }
   ],
   "source": [
    "# Loading Packages\n",
    "import pandas as pd\n",
    "import numpy as np\n",
    "import datetime\n",
    "from dateutil.relativedelta import relativedelta\n",
    "\n",
    "from scipy.stats import norm\n",
    "import seaborn as sns\n",
    "import matplotlib.pyplot as plt\n",
    "from geopy.distance import distance\n",
    "\n",
    "from sklearn.model_selection import train_test_split\n",
    "from sklearn.linear_model import LinearRegression\n",
    "from sklearn import metrics\n",
    "from sklearn.preprocessing import PolynomialFeatures\n",
    "\n",
    "\n",
    "from sklearn import linear_model\n",
    "from sklearn.preprocessing import StandardScaler\n",
    "from utils import *\n",
    "\n",
    "%load_ext autoreload\n",
    "%autoreload 2\n",
    "\n",
    "pd.set_option('display.max_columns', 300)\n",
    "sns.set(style='white', context='notebook', palette='deep')"
   ]
  },
  {
   "cell_type": "markdown",
   "metadata": {},
   "source": [
    "Read in hold out data, scalers, and best model"
   ]
  },
  {
   "cell_type": "code",
   "execution_count": 61,
   "metadata": {},
   "outputs": [],
   "source": [
    "holdout = pd.read_csv('kc_house_data_test_features.csv')"
   ]
  },
  {
   "cell_type": "code",
   "execution_count": 62,
   "metadata": {},
   "outputs": [],
   "source": [
    "scaler_file = open('scaler.pickle','rb')\n",
    "final_scaler = pickle.load(scaler_file)\n",
    "\n",
    "model_file = open('model.pickle','rb')\n",
    "final_model = pickle.load(model_file)\n",
    "\n",
    "scaler_file.close()\n",
    "model_file.close()"
   ]
  },
  {
   "cell_type": "markdown",
   "metadata": {},
   "source": [
    "Feature Engineering for holdout set"
   ]
  },
  {
   "cell_type": "code",
   "execution_count": 63,
   "metadata": {},
   "outputs": [],
   "source": [
    "# Getting rid of higly correlated features\n",
    "\n",
    "holdout.drop(columns = ['sqft_above', 'sqft_living15', 'sqft_lot15','id','Unnamed: 0'], inplace=True)"
   ]
  },
  {
   "cell_type": "code",
   "execution_count": 64,
   "metadata": {},
   "outputs": [],
   "source": [
    "# define catgorical and continius variables\n",
    "\n",
    "categorical_variables = ['condition', 'view', 'floors', 'grade',  'waterfront', 'zipcode']\n",
    "contin_variables = ['bedrooms', 'bathrooms', 'sqft_living', 'sqft_lot', 'sqft_basement']"
   ]
  },
  {
   "cell_type": "code",
   "execution_count": 65,
   "metadata": {},
   "outputs": [],
   "source": [
    "# Cleaning data wit map_bed_bath function\n",
    "\n",
    "holdout = holdout.apply(map_bed_bath, axis = 1)\n",
    "\n",
    "# Lets Create new feature - distance from the house to downtown in miles by using function distance_to_dwntwn\n",
    "holdout['dist_dntwn'] = holdout.apply(distance_to_dwntwn, axis = 1)  \n",
    "holdout = holdout.drop(columns = ['lat','long'])"
   ]
  },
  {
   "cell_type": "code",
   "execution_count": 66,
   "metadata": {},
   "outputs": [],
   "source": [
    "# Createing catigorical variable based on sqft_basement variable\n",
    "holdout['basement'] = holdout['sqft_basement'].map(lambda x : 1 if x != 0 else 0)\n",
    "\n",
    "# Add it to our list of categorical variables\n",
    "categorical_variables = categorical_variables+['basement']\n",
    "\n",
    "# Generate dummies based on categorica variables with function to_dummies\n",
    "holdout = to_dummies(holdout, categorical_variables)"
   ]
  },
  {
   "cell_type": "code",
   "execution_count": 67,
   "metadata": {},
   "outputs": [],
   "source": [
    "# Creating new features based on when the house was built and when it was renovated.\n",
    "\n",
    "holdout['years_old'] = holdout['yr_built'].map(lambda x : 2021-x)\n",
    "holdout['abs_years_old'] = holdout['years_old'].map(lambda x: abs(x-round(holdout['years_old'].mean())))\n",
    "\n",
    "# Converting 'yr_renovated' column to datetime format with function format_yr_renov\n",
    "# And Create new features 'yrs_from_renov' based on 'yr_renovated'\n",
    "\n",
    "holdout = holdout.apply(format_yr_renov, axis=1)\n",
    "holdout['yrs_from_renov'] = holdout['yr_renovated'].map(lambda x : relativedelta(datetime.datetime.now(), x).years)"
   ]
  },
  {
   "cell_type": "code",
   "execution_count": 68,
   "metadata": {},
   "outputs": [],
   "source": [
    "# Drop some columns that we wont use anymore\n",
    "holdout = holdout.drop(columns=['date','yr_built','yr_renovated'])"
   ]
  },
  {
   "cell_type": "code",
   "execution_count": 69,
   "metadata": {},
   "outputs": [],
   "source": [
    "# Lets create poly features degrtee 2 for quantitative variables except features with dummies\n",
    "\n",
    "fts_for_poly = ['bedrooms', 'bathrooms', 'sqft_living', 'sqft_lot', 'sqft_basement', 'dist_dntwn', 'years_old', 'yrs_from_renov', 'abs_years_old']\n",
    "\n",
    "# generate poly features degree 2 with function create_poly_df\n",
    "df_poly2 = create_poly_df(holdout[fts_for_poly], 2)\n",
    "\n",
    "# Seperate features with dummies values \n",
    "not_poly_fts = [x for x in holdout.columns if x not in fts_for_poly]\n",
    "\n",
    "# Combine poly 2 degree variables and dummies \n",
    "train_poly2 = pd.merge(df_poly2, holdout[not_poly_fts], left_index=True, right_index=True)"
   ]
  },
  {
   "cell_type": "code",
   "execution_count": 70,
   "metadata": {},
   "outputs": [],
   "source": [
    "transformed_holdout = final_scaler.transform(train_poly2)"
   ]
  },
  {
   "cell_type": "code",
   "execution_count": 71,
   "metadata": {},
   "outputs": [],
   "source": [
    "# Predicting the holdout set"
   ]
  },
  {
   "cell_type": "code",
   "execution_count": 72,
   "metadata": {},
   "outputs": [],
   "source": [
    "final_answers = final_model.predict(train_poly2)"
   ]
  },
  {
   "cell_type": "code",
   "execution_count": 73,
   "metadata": {},
   "outputs": [],
   "source": [
    "df = pd.DataFrame(final_answers)"
   ]
  },
  {
   "cell_type": "code",
   "execution_count": 74,
   "metadata": {},
   "outputs": [],
   "source": [
    "# Exporting your predictions"
   ]
  },
  {
   "cell_type": "code",
   "execution_count": 75,
   "metadata": {},
   "outputs": [],
   "source": [
    "df.to_csv('housing_preds_ivan.csv')"
   ]
  },
  {
   "cell_type": "code",
   "execution_count": null,
   "metadata": {},
   "outputs": [],
   "source": []
  }
 ],
 "metadata": {
  "kernelspec": {
   "display_name": "Python 3",
   "language": "python",
   "name": "python3"
  },
  "language_info": {
   "codemirror_mode": {
    "name": "ipython",
    "version": 3
   },
   "file_extension": ".py",
   "mimetype": "text/x-python",
   "name": "python",
   "nbconvert_exporter": "python",
   "pygments_lexer": "ipython3",
   "version": "3.7.6"
  }
 },
 "nbformat": 4,
 "nbformat_minor": 4
}
